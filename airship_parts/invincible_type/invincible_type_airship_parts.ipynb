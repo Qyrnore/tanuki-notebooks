{
 "cells": [
  {
   "cell_type": "code",
   "execution_count": null,
   "metadata": {},
   "outputs": [],
   "source": [
    "from invincible_type_airship_parts import generate_gathering_list\n",
    "\n",
    "# Generate the gathering list and save to 'gathering_list.csv'\n",
    "df_gathering_list = generate_gathering_list(\n",
    "    total_csv='total_invincible_type_airship_parts.csv',\n",
    "    recipe_book_csv='recipe_book.csv',\n",
    "    recipe_gathering_csv='recipe_gathering.csv',\n",
    "    output_csv='gathering_list.csv'\n",
    ")\n",
    "\n",
    "df_gathering_list  # Display the gathering list"
   ]
  },
  {
   "cell_type": "code",
   "execution_count": null,
   "metadata": {},
   "outputs": [],
   "source": [
    "from invincible_type_airship_parts import get_crafting_recipes\n",
    "\n",
    "# Get the crafting recipes from total_invincible_type_airship_parts.csv\n",
    "df_crafting_recipes = get_crafting_recipes('total_invincible_type_airship_parts.csv')\n",
    "df_crafting_recipes  # Display the crafting recipes list"
   ]
  },
  {
   "cell_type": "code",
   "execution_count": null,
   "metadata": {},
   "outputs": [],
   "source": [
    "from invincible_type_airship_parts import fetch_market_data_for_subparts\n",
    "\n",
    "# Combine items from the gathering list (from 'gathering_list.csv') and the crafting recipes (from 'recipe_book.csv'),\n",
    "# fetch market data from the Universalis API, and save the results to 'airship_parts_market_data.csv'.\n",
    "df_market_data = fetch_market_data_for_subparts(\n",
    "    gathering_csv='gathering_list.csv',\n",
    "    crafting_csv='recipe_book.csv', \n",
    "    item_ids_json='item_ids.json',\n",
    "    output_csv='airship_parts_market_data.csv',\n",
    "    world=\"Seraph\"\n",
    ")\n",
    "\n",
    "df_market_data  # Display the market data for airship parts"
   ]
  }
 ],
 "metadata": {
  "language_info": {
   "name": "python"
  }
 },
 "nbformat": 4,
 "nbformat_minor": 2
}
