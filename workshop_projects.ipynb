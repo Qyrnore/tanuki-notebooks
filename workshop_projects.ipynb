{
 "cells": [
  {
   "cell_type": "code",
   "execution_count": null,
   "id": "bcceace8",
   "metadata": {},
   "outputs": [
    {
     "ename": "NotFound",
     "evalue": "The system cannot find the file specified. (os error 2): readfile 'utilities/total_shark_class_sub_parts.csv'",
     "output_type": "error",
     "traceback": [
      "Stack trace:",
      "NotFound: The system cannot find the file specified. (os error 2): readfile 'utilities/total_shark_class_sub_parts.csv'",
      "    at Object.readTextFile (ext:deno_fs/30_fs.js:784:24)",
      "    at calculateBudgets (file:///E:/ffxiv_projects/ffxiv_notebooks/workshop_projects.ts:14:32)",
      "    at <anonymous>:2:7",
      "    at eventLoopTick (ext:core/01_core.js:178:7)"
     ]
    }
   ],
   "source": [
    "import { calculateBudgets as runBudgets } from \"./workshop_projects.ts\";\n",
    "await runBudgets();"
   ]
  }
 ],
 "metadata": {
  "kernelspec": {
   "display_name": "Deno",
   "language": "typescript",
   "name": "deno"
  },
  "language_info": {
   "codemirror_mode": "typescript",
   "file_extension": ".ts",
   "mimetype": "text/x.typescript",
   "name": "typescript",
   "nbconvert_exporter": "script",
   "pygments_lexer": "typescript",
   "version": "5.8.3"
  }
 },
 "nbformat": 4,
 "nbformat_minor": 5
}
