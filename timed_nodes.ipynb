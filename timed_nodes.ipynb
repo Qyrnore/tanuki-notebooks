{
 "cells": [
  {
   "cell_type": "code",
   "execution_count": null,
   "metadata": {},
   "outputs": [
    {
     "name": "stdout",
     "output_type": "stream",
     "text": [
      "✔ Cleaned data -> timed_nodes/cleaned_nodes.csv\n",
      "Merged CSV written to 'final_nodes_with_ids.csv'.\n",
      "✔ Assigned IDs -> timed_nodes/final_nodes_with_ids.csv\n",
      "Current Eorzean time (raw): 06:42\n",
      "\n",
      "Active nodes (with time difference in minutes):\n",
      "        ID   Time                 Item Name                Location  \\\n",
      "6    27835  06:00                 Lemonette                Kholusia   \n",
      "20   19918  06:00            Hallowed Basil               The Peaks   \n",
      "32   12944  06:00      Abalathian Mistletoe       The Sea of Clouds   \n",
      "31   12889  06:00             Heavens Lemon       The Sea of Clouds   \n",
      "50    7594  06:00  Young Cieldalaes Spinach         Lower La Noscea   \n",
      "51    8031  06:00              Redolent Log          Central Shroud   \n",
      "81   27730  06:00              Raw Petalite                Lakeland   \n",
      "80   27727  06:00              Raw Diaspore                 Il Mheg   \n",
      "89   32978  06:00      Rarefied Raw Azurite             Azim Steppe   \n",
      "115   7610  06:00               Umbral Rock            South Shroud   \n",
      "90   32979  06:00  Rarefied Silvergrace Ore             Azim Steppe   \n",
      "88   19972  06:00         Raw Imperial Jade                  Yanxia   \n",
      "79   32981  06:00     Rarefied Raw Lazurite  The Rak'tika Greatwood   \n",
      "52    7595  07:00              Blood Orange         Upper La Noscea   \n",
      "\n",
      "    Coordinates  time_diff  \n",
      "6     (x20,y27)        -42  \n",
      "20    (x23,y16)        -42  \n",
      "32    (x35,y23)        -42  \n",
      "31    (x35,y23)        -42  \n",
      "50    (x32,y11)        -42  \n",
      "51    (x30,y19)        -42  \n",
      "81    (x29,y33)        -42  \n",
      "80    (x26,y13)        -42  \n",
      "89    (x36,y26)        -42  \n",
      "115   (x16,y31)        -42  \n",
      "90    (x36,y26)        -42  \n",
      "88     (x29,y9)        -42  \n",
      "79    (x16,y18)        -42  \n",
      "52    (x28,y25)         18  \n",
      "✔ Sorted for current time -> timed_nodes/final_nodes_with_ids_sorted.csv\n"
     ]
    }
   ],
   "source": [
    "import timed_nodes as tn\n",
    "import os\n",
    "\n",
    "# Define base directory\n",
    "timed_nodes_dir = \"timed_nodes/\"\n",
    "\n",
    "# Step 1: Clean unspoiled nodes\n",
    "input_file = os.path.join(timed_nodes_dir, \"unspoiled_nodes.txt\")\n",
    "output_file = os.path.join(timed_nodes_dir, \"cleaned_nodes.csv\")\n",
    "tn.clean_unspoiled_data(input_file, output_file)\n",
    "print(f\"Cleaned data -> {output_file}\")\n",
    "\n",
    "# Step 2: Assign IDs\n",
    "input_file = output_file\n",
    "output_file = os.path.join(timed_nodes_dir, \"final_nodes_with_ids.csv\")\n",
    "tn.assign_ids(input_file, output_file)\n",
    "print(f\"Assigned IDs -> {output_file}\")\n",
    "\n",
    "# Step 3: Sort for current time\n",
    "input_file = output_file\n",
    "output_file = os.path.join(timed_nodes_dir, \"final_nodes_with_ids_sorted.csv\")\n",
    "tn.sort_for_current_time(input_file, output_file)\n",
    "print(f\"Sorted for current time -> {output_file}\")\n"
   ]
  }
 ],
 "metadata": {
  "kernelspec": {
   "display_name": "Python 3",
   "language": "python",
   "name": "python3"
  },
  "language_info": {
   "codemirror_mode": {
    "name": "ipython",
    "version": 3
   },
   "file_extension": ".py",
   "mimetype": "text/x-python",
   "name": "python",
   "nbconvert_exporter": "python",
   "pygments_lexer": "ipython3",
   "version": "3.13.3"
  }
 },
 "nbformat": 4,
 "nbformat_minor": 2
}
